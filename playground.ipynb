{
 "cells": [
  {
   "cell_type": "code",
   "execution_count": 10,
   "metadata": {},
   "outputs": [],
   "source": [
    "import numpy as np\n",
    "import torch"
   ]
  },
  {
   "cell_type": "code",
   "execution_count": 11,
   "metadata": {},
   "outputs": [],
   "source": [
    "# read the train_ids and val_ids\n",
    "train_ids = torch.from_numpy(np.fromfile('data/train.bin', dtype=np.int32))\n",
    "val_ids = torch.from_numpy(np.fromfile('data/val.bin', dtype=np.int32))"
   ]
  },
  {
   "cell_type": "code",
   "execution_count": 12,
   "metadata": {},
   "outputs": [
    {
     "data": {
      "text/plain": [
       "501927"
      ]
     },
     "execution_count": 12,
     "metadata": {},
     "output_type": "execute_result"
    }
   ],
   "source": [
    "len(train_ids)"
   ]
  },
  {
   "cell_type": "code",
   "execution_count": 14,
   "metadata": {},
   "outputs": [],
   "source": [
    "s = torch.tensor([0, 2], dtype=torch.int32)"
   ]
  },
  {
   "cell_type": "code",
   "execution_count": 17,
   "metadata": {},
   "outputs": [],
   "source": [
    "block_size = 8 # like the context length\n",
    "batch_size = 4\n",
    "\n",
    "def get_batch(split) -> torch.Tensor:\n",
    "    '''Get a training batch\n",
    "    Shape of tensor\n",
    "    '''\n",
    "    data = train_ids if split == 'train' else val_ids\n",
    "    n = len(data)\n",
    "    start_id = torch.randint(0, n - block_size, size=(batch_size,))\n",
    "    # Say (55, 56, 57, 58) is the block size\n",
    "    x = torch.stack([data[s:s+block_size] for s in start_id])\n",
    "    y = torch.stack([data[s+1:s+block_size+1] for s in start_id])\n",
    "    return x, y\n"
   ]
  },
  {
   "cell_type": "code",
   "execution_count": 28,
   "metadata": {},
   "outputs": [
    {
     "name": "stdout",
     "output_type": "stream",
     "text": [
      "torch.Size([4, 8]) torch.Size([4, 8])\n",
      "xb: tensor([[  65593, 3407911,   65578, 3014714, 3080235,   65592, 2555945, 2818104],\n",
      "        [3801144, 3801089, 2818094, 3670063, 3735553, 3276853, 3080234, 3670059],\n",
      "        [2818104, 3735608, 2555905,   65593, 3473471, 3670075, 2818105, 3932210],\n",
      "        [  65579, 2883637, 3801089, 4128814, 3276801, 3932213,  327723,   65593]],\n",
      "       dtype=torch.int32)\n",
      "yb: tensor([[3407911,   65578, 3014714, 3080235,   65592, 2555945, 2818104,  393273],\n",
      "        [3801089, 2818094, 3670063, 3735553, 3276853, 3080234, 3670059,   65542],\n",
      "        [3735608, 2555905,   65593, 3473471, 3670075, 2818105, 3932210, 3735595],\n",
      "        [2883637, 3801089, 4128814, 3276801, 3932213,  327723,   65593, 2555948]],\n",
      "       dtype=torch.int32)\n",
      "for input: tensor([65593], dtype=torch.int32), target is 3407911\n",
      "for input: tensor([  65593, 3407911], dtype=torch.int32), target is 65578\n",
      "for input: tensor([  65593, 3407911,   65578], dtype=torch.int32), target is 3014714\n",
      "for input: tensor([  65593, 3407911,   65578, 3014714], dtype=torch.int32), target is 3080235\n",
      "for input: tensor([  65593, 3407911,   65578, 3014714, 3080235], dtype=torch.int32), target is 65592\n",
      "for input: tensor([  65593, 3407911,   65578, 3014714, 3080235,   65592],\n",
      "       dtype=torch.int32), target is 2555945\n",
      "for input: tensor([  65593, 3407911,   65578, 3014714, 3080235,   65592, 2555945],\n",
      "       dtype=torch.int32), target is 2818104\n",
      "for input: tensor([  65593, 3407911,   65578, 3014714, 3080235,   65592, 2555945, 2818104],\n",
      "       dtype=torch.int32), target is 393273\n"
     ]
    }
   ],
   "source": [
    "xb, yb = get_batch('train')\n",
    "print (xb.shape, yb.shape)\n",
    "print (f'xb: {xb}')\n",
    "\n",
    "print (f'yb: {yb}')\n",
    "\n",
    "# what is the input and output that this sample covers\n",
    "b = 0\n",
    "for i in range(0, block_size):\n",
    "    print (f'for input: {xb[b, :i + 1]}, target is {yb[b, i]}')"
   ]
  },
  {
   "cell_type": "code",
   "execution_count": 61,
   "metadata": {},
   "outputs": [
    {
     "data": {
      "text/plain": [
       "(tensor([[[2., 5., 6.],\n",
       "          [8., 9., 8.],\n",
       "          [3., 9., 1.],\n",
       "          [9., 3., 7.]]]),\n",
       " torch.Size([1, 4, 3]))"
      ]
     },
     "execution_count": 61,
     "metadata": {},
     "output_type": "execute_result"
    }
   ],
   "source": [
    "torch.manual_seed(1337)\n",
    "block_size = 4\n",
    "xb = torch.randint(1, 10, size=(1, block_size, 3)).float()\n",
    "xb, xb.shape"
   ]
  },
  {
   "cell_type": "code",
   "execution_count": 95,
   "metadata": {},
   "outputs": [],
   "source": [
    "import torch.nn.functional as F"
   ]
  },
  {
   "cell_type": "code",
   "execution_count": 99,
   "metadata": {},
   "outputs": [
    {
     "data": {
      "text/plain": [
       "tensor([[1.0000, 0.0000, 0.0000, 0.0000],\n",
       "        [0.5000, 0.5000, 0.0000, 0.0000],\n",
       "        [0.3333, 0.3333, 0.3333, 0.0000],\n",
       "        [0.2500, 0.2500, 0.2500, 0.2500]])"
      ]
     },
     "execution_count": 99,
     "metadata": {},
     "output_type": "execute_result"
    }
   ],
   "source": [
    "wei = torch.zeros((block_size, block_size)) # make it upper triangular\n",
    "tril = torch.tril(torch.ones((block_size, block_size)))\n",
    "wei = F.softmax(wei.masked_fill(tril == 0, float('-inf')), -1) # future cannot be seen\n",
    "\n",
    "wei"
   ]
  },
  {
   "cell_type": "code",
   "execution_count": 101,
   "metadata": {},
   "outputs": [
    {
     "data": {
      "text/plain": [
       "tensor([[[2.0000, 5.0000, 6.0000],\n",
       "         [5.0000, 7.0000, 7.0000],\n",
       "         [4.3333, 7.6667, 5.0000],\n",
       "         [5.5000, 6.5000, 5.5000]]])"
      ]
     },
     "execution_count": 101,
     "metadata": {},
     "output_type": "execute_result"
    }
   ],
   "source": [
    "wei @ xb"
   ]
  },
  {
   "cell_type": "code",
   "execution_count": null,
   "metadata": {},
   "outputs": [],
   "source": []
  }
 ],
 "metadata": {
  "kernelspec": {
   "display_name": "nano-gpt",
   "language": "python",
   "name": "python3"
  },
  "language_info": {
   "codemirror_mode": {
    "name": "ipython",
    "version": 3
   },
   "file_extension": ".py",
   "mimetype": "text/x-python",
   "name": "python",
   "nbconvert_exporter": "python",
   "pygments_lexer": "ipython3",
   "version": "3.9.18"
  }
 },
 "nbformat": 4,
 "nbformat_minor": 2
}
